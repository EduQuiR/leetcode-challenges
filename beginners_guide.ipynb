{
 "cells": [
  {
   "cell_type": "markdown",
   "metadata": {},
   "source": [
    "# 1480. Running Sum of 1d Array\n",
    "Given an array nums. We define a running sum of an array as runningSum[i] = sum(nums[0]…nums[i]). Return the running sum of nums.\n",
    "\n",
    "#### Example 1:\n",
    "Input: nums = [1,2,3,4]\n",
    "\n",
    "Output: [1,3,6,10]\n",
    "\n",
    "Explanation: Running sum is obtained as follows: [1, 1+2, 1+2+3, 1+2+3+4].\n"
   ]
  },
  {
   "cell_type": "code",
   "execution_count": 3,
   "metadata": {},
   "outputs": [
    {
     "data": {
      "text/plain": [
       "[1, 3, 6, 10]"
      ]
     },
     "execution_count": 3,
     "metadata": {},
     "output_type": "execute_result"
    }
   ],
   "source": [
    "def runningSum(nums):\n",
    "    new_list = [] # Empty list were new values will be stored\n",
    "    num_value_after_iteration = 0 # This is initialized as 0, but after iterating over the list, it will contain the sum of current number and the sum of the previous ones.\n",
    "\n",
    "    for num in nums:\n",
    "        new_list.append(num + num_value_after_iteration) # Current number + the last value is added to the list\n",
    "        num_value_after_iteration = num  + num_value_after_iteration # Current number + the last value is assigned to num_value_after_iteration, so we can use it on the next iteration\n",
    "    \n",
    "    return new_list\n",
    "\n",
    "runningSum([1, 2, 3, 4]) # [1, 3, 6, 10]\n",
    "\n"
   ]
  },
  {
   "cell_type": "markdown",
   "metadata": {},
   "source": [
    "# 1672. Richest Customer Wealth\n",
    "You are given an `m x n` integer grid `accounts` where `accounts[i][j]` is the amount of money the `i​​​​​​​​​​​th`​​​​ customer has in the `j​​​​​​​​​​​th​​​​` bank. Return the wealth that the richest customer has.\n",
    "\n",
    "A customer's wealth is the amount of money they have in all their bank accounts. The richest customer is the customer that has the maximum wealth.\n",
    "\n",
    "Example 1:\n",
    "\n",
    "Input: accounts = [[1,2,3],[3,2,1]]\n",
    "\n",
    "Output: 6\n",
    "\n",
    "Explanation:\n",
    "\n",
    "1st customer has wealth = 1 + 2 + 3 = 6\n",
    "\n",
    "2nd customer has wealth = 3 + 2 + 1 = 6\n",
    "\n",
    "Both customers are considered the richest with a wealth of 6 each, so return 6."
   ]
  },
  {
   "cell_type": "code",
   "execution_count": 11,
   "metadata": {},
   "outputs": [
    {
     "data": {
      "text/plain": [
       "6"
      ]
     },
     "execution_count": 11,
     "metadata": {},
     "output_type": "execute_result"
    }
   ],
   "source": [
    "def maximumWealth(accounts):\n",
    "    \"\"\"\n",
    "    :type accounts: List[List[int]]\n",
    "    :rtype: int\n",
    "    \"\"\"\n",
    "    list_of_wealths = [] # The total amount of wealth of each customer will be stored on this list\n",
    "    for account in accounts:\n",
    "        list_of_wealths.append(runningSum(account)[-1]) # We can use the function from the previous challenge and get its last value (the higher value)\n",
    "    \n",
    "    highest_value_now = list_of_wealths[0] # highest_value_now will be initialized as the first element of the list of wealths\n",
    "    for i in range(len(list_of_wealths)):\n",
    "        # We iterate over each total wealth and check if it is higher than the previous highest value. If it is, we update the value of highest_value_now.\n",
    "        highest_value_now = highest_value_now if highest_value_now >= list_of_wealths[i] else list_of_wealths[i] \n",
    "\n",
    "    return highest_value_now\n",
    "\n",
    "maximumWealth([[1,2],[3,3]])\n"
   ]
  }
 ],
 "metadata": {
  "kernelspec": {
   "display_name": "Python 3",
   "language": "python",
   "name": "python3"
  },
  "language_info": {
   "codemirror_mode": {
    "name": "ipython",
    "version": 3
   },
   "file_extension": ".py",
   "mimetype": "text/x-python",
   "name": "python",
   "nbconvert_exporter": "python",
   "pygments_lexer": "ipython3",
   "version": "3.11.4"
  },
  "orig_nbformat": 4
 },
 "nbformat": 4,
 "nbformat_minor": 2
}
