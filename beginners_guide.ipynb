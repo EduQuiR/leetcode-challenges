{
 "cells": [
  {
   "cell_type": "markdown",
   "metadata": {},
   "source": [
    "# 1480. Running Sum of 1d Array\n",
    "Given an array nums. We define a running sum of an array as runningSum[i] = sum(nums[0]…nums[i]). Return the running sum of nums.\n",
    "\n",
    "#### Example 1:\n",
    "Input: nums = [1,2,3,4]\n",
    "\n",
    "Output: [1,3,6,10]\n",
    "\n",
    "Explanation: Running sum is obtained as follows: [1, 1+2, 1+2+3, 1+2+3+4].\n"
   ]
  },
  {
   "cell_type": "code",
   "execution_count": 3,
   "metadata": {},
   "outputs": [
    {
     "data": {
      "text/plain": [
       "[1, 3, 6, 10]"
      ]
     },
     "execution_count": 3,
     "metadata": {},
     "output_type": "execute_result"
    }
   ],
   "source": [
    "def runningSum(nums):\n",
    "    new_list = [] # Empty list were new values will be stored\n",
    "    num_value_after_iteration = 0 # This is initialized as 0, but after iterating over the list, it will contain the sum of current number and the sum of the previous ones.\n",
    "\n",
    "    for num in nums:\n",
    "        new_list.append(num + num_value_after_iteration) # Current number + the last value is added to the list\n",
    "        num_value_after_iteration = num  + num_value_after_iteration # Current number + the last value is assigned to num_value_after_iteration, so we can use it on the next iteration\n",
    "    \n",
    "    return new_list\n",
    "\n",
    "runningSum([1, 2, 3, 4]) # [1, 3, 6, 10]\n",
    "\n"
   ]
  }
 ],
 "metadata": {
  "kernelspec": {
   "display_name": "Python 3",
   "language": "python",
   "name": "python3"
  },
  "language_info": {
   "codemirror_mode": {
    "name": "ipython",
    "version": 3
   },
   "file_extension": ".py",
   "mimetype": "text/x-python",
   "name": "python",
   "nbconvert_exporter": "python",
   "pygments_lexer": "ipython3",
   "version": "3.11.4"
  },
  "orig_nbformat": 4
 },
 "nbformat": 4,
 "nbformat_minor": 2
}
