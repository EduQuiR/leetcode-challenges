{
 "cells": [
  {
   "cell_type": "markdown",
   "metadata": {},
   "source": [
    "# 1480. Running Sum of 1d Array\n",
    "Given an array nums. We define a running sum of an array as runningSum[i] = sum(nums[0]…nums[i]). Return the running sum of nums.\n",
    "\n",
    "#### Example 1:\n",
    "Input: nums = [1,2,3,4]\n",
    "\n",
    "Output: [1,3,6,10]\n",
    "\n",
    "Explanation: Running sum is obtained as follows: [1, 1+2, 1+2+3, 1+2+3+4]\n"
   ]
  },
  {
   "cell_type": "code",
   "execution_count": 3,
   "metadata": {},
   "outputs": [
    {
     "data": {
      "text/plain": [
       "[1, 3, 6, 10]"
      ]
     },
     "execution_count": 3,
     "metadata": {},
     "output_type": "execute_result"
    }
   ],
   "source": [
    "def runningSum(nums):\n",
    "    new_list = [] # Empty list were new values will be stored\n",
    "    num_value_after_iteration = 0 # This is initialized as 0, but after iterating over the list, it will contain the sum of current number and the sum of the previous ones.\n",
    "\n",
    "    for num in nums:\n",
    "        new_list.append(num + num_value_after_iteration) # Current number + the last value is added to the list\n",
    "        num_value_after_iteration = num  + num_value_after_iteration # Current number + the last value is assigned to num_value_after_iteration, so we can use it on the next iteration\n",
    "    \n",
    "    return new_list\n",
    "\n",
    "runningSum([1, 2, 3, 4]) # [1, 3, 6, 10]\n",
    "\n"
   ]
  },
  {
   "cell_type": "markdown",
   "metadata": {},
   "source": [
    "# 1672. Richest Customer Wealth\n",
    "You are given an `m x n` integer grid `accounts` where `accounts[i][j]` is the amount of money the `i​​​​​​​​​​​th`​​​​ customer has in the `j​​​​​​​​​​​th​​​​` bank. Return the wealth that the richest customer has.\n",
    "\n",
    "A customer's wealth is the amount of money they have in all their bank accounts. The richest customer is the customer that has the maximum wealth.\n",
    "\n",
    "Example 1:\n",
    "\n",
    "Input: accounts = [[1,2,3],[3,2,1]]\n",
    "\n",
    "Output: 6\n",
    "\n",
    "Explanation:\n",
    "\n",
    "1st customer has wealth = 1 + 2 + 3 = 6\n",
    "\n",
    "2nd customer has wealth = 3 + 2 + 1 = 6\n",
    "\n",
    "Both customers are considered the richest with a wealth of 6 each, so return 6."
   ]
  },
  {
   "cell_type": "code",
   "execution_count": 11,
   "metadata": {},
   "outputs": [
    {
     "data": {
      "text/plain": [
       "6"
      ]
     },
     "execution_count": 11,
     "metadata": {},
     "output_type": "execute_result"
    }
   ],
   "source": [
    "def maximumWealth(accounts):\n",
    "    \"\"\"\n",
    "    :type accounts: List[List[int]]\n",
    "    :rtype: int\n",
    "    \"\"\"\n",
    "    list_of_wealths = [] # The total amount of wealth of each customer will be stored on this list\n",
    "    for account in accounts:\n",
    "        list_of_wealths.append(runningSum(account)[-1]) # We can use the function from the previous challenge and get its last value (the higher value)\n",
    "    \n",
    "    highest_value_now = list_of_wealths[0] # highest_value_now will be initialized as the first element of the list of wealths\n",
    "    for i in range(len(list_of_wealths)):\n",
    "        # We iterate over each total wealth and check if it is higher than the previous highest value. If it is, we update the value of highest_value_now.\n",
    "        highest_value_now = highest_value_now if highest_value_now >= list_of_wealths[i] else list_of_wealths[i] \n",
    "\n",
    "    return highest_value_now\n",
    "\n",
    "maximumWealth([[1,2],[3,3]])\n"
   ]
  },
  {
   "cell_type": "markdown",
   "metadata": {},
   "source": [
    "# 412. FizzBuzz\n",
    "Given an integer n, return a string array answer (1-indexed) where:\n",
    "\n",
    "answer[i] == \"FizzBuzz\" if i is divisible by 3 and 5.\n",
    "\n",
    "answer[i] == \"Fizz\" if i is divisible by 3.\n",
    "\n",
    "answer[i] == \"Buzz\" if i is divisible by 5.\n",
    "\n",
    "answer[i] == i (as a string) if none of the above conditions are true.\n",
    "\n",
    "Example 1:\n",
    "\n",
    "Input: n = 3\n",
    "\n",
    "Output: [\"1\",\"2\",\"Fizz\"]"
   ]
  },
  {
   "cell_type": "code",
   "execution_count": 30,
   "metadata": {},
   "outputs": [
    {
     "data": {
      "text/plain": [
       "['1', '2', 'Fizz', '4', 'Buzz']"
      ]
     },
     "execution_count": 30,
     "metadata": {},
     "output_type": "execute_result"
    }
   ],
   "source": [
    "def fizzBuzz(n):\n",
    "    \"\"\"\n",
    "    :type n: int\n",
    "    :rtype: List[str]\n",
    "    \"\"\"\n",
    "    list_of_n_elements = list(range(1, n + 1)) # Build a list conformed by numbers up to n\n",
    "    list_of_n_elements_to_str = [str(num) for num in list_of_n_elements if True] # Convert previous list of numbers to a list of strings\n",
    "    final_list = [] # list where numbers, fizz, buzz, and fizzbuzz will be stored\n",
    "\n",
    "    for element in list_of_n_elements_to_str:\n",
    "        # Convert each string element into number just for calculation\n",
    "        if int(element) % 3 == 0 and int(element) % 5 == 0:\n",
    "            final_list.append(\"FizzBuzz\") # Append word if condition is true\n",
    "        elif int(element) % 5 == 0:\n",
    "            final_list.append(\"Buzz\")\n",
    "        elif int(element) % 3 == 0:\n",
    "            final_list.append(\"Fizz\")\n",
    "        else:\n",
    "            final_list.append(element)\n",
    "            \n",
    "    return final_list\n",
    "\n",
    "fizzBuzz(5)\n"
   ]
  },
  {
   "cell_type": "markdown",
   "metadata": {},
   "source": [
    "# 1342. Number of Steps to Reduce a Number to Zero\n",
    "Given an integer num, return the number of steps to reduce it to zero.\n",
    "In one step, if the current number is even, you have to divide it by 2, otherwise, you have to subtract 1 from it.\n",
    "\n",
    "Input: num = 14\n",
    "\n",
    "Output: 6\n",
    "\n",
    "Explanation: \n",
    "\n",
    "Step 1) 14 is even; divide by 2 and obtain 7. \n",
    "\n",
    "Step 2) 7 is odd; subtract 1 and obtain 6.\n",
    "\n",
    "Step 3) 6 is even; divide by 2 and obtain 3. \n",
    "\n",
    "Step 4) 3 is odd; subtract 1 and obtain 2. \n",
    "\n",
    "Step 5) 2 is even; divide by 2 and obtain 1. \n",
    "\n",
    "Step 6) 1 is odd; subtract 1 and obtain 0."
   ]
  },
  {
   "cell_type": "code",
   "execution_count": 27,
   "metadata": {},
   "outputs": [
    {
     "name": "stdout",
     "output_type": "stream",
     "text": [
      "3\n"
     ]
    }
   ],
   "source": [
    "# The Recursive Solution\n",
    "def numberOfSteps(num, number_of_steps):\n",
    "    if num == 0:\n",
    "        return number_of_steps\n",
    "    else:\n",
    "        if num % 2 == 0: # If number is even...\n",
    "            return numberOfSteps(num / 2, number_of_steps + 1) # ...divide it by two; add 1 step\n",
    "        else: # If number is odd...\n",
    "            return numberOfSteps(num - 1, number_of_steps + 1) # ...substract one from it; add 1 step\n",
    "\n",
    "print(numberOfSteps(3, 0)) # 12"
   ]
  },
  {
   "cell_type": "code",
   "execution_count": 24,
   "metadata": {},
   "outputs": [
    {
     "data": {
      "text/plain": [
       "12"
      ]
     },
     "execution_count": 24,
     "metadata": {},
     "output_type": "execute_result"
    }
   ],
   "source": [
    "# The Iterative Solution\n",
    "def numberOfSteps(num):\n",
    "    total_steps = 0\n",
    "    while num != 0:\n",
    "        if num % 2 == 0: # If number is even...\n",
    "            num = num / 2\n",
    "            total_steps += 1\n",
    "        else: # If number is odd...\n",
    "            num = num - 1\n",
    "            total_steps += 1\n",
    "    \n",
    "    return total_steps\n",
    "\n",
    "numberOfSteps(123)"
   ]
  }
 ],
 "metadata": {
  "kernelspec": {
   "display_name": "Python 3",
   "language": "python",
   "name": "python3"
  },
  "language_info": {
   "codemirror_mode": {
    "name": "ipython",
    "version": 3
   },
   "file_extension": ".py",
   "mimetype": "text/x-python",
   "name": "python",
   "nbconvert_exporter": "python",
   "pygments_lexer": "ipython3",
   "version": "3.11.4"
  },
  "orig_nbformat": 4
 },
 "nbformat": 4,
 "nbformat_minor": 2
}
